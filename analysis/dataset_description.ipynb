{
 "cells": [
  {
   "cell_type": "markdown",
   "id": "6de7d079-8a0e-4af5-ba11-cc20c8e6999d",
   "metadata": {},
   "source": [
    "Load and preprocess dataset"
   ]
  },
  {
   "cell_type": "code",
   "execution_count": 1,
   "id": "9dce6be6-e1f7-47c2-b8ec-f2756c691e47",
   "metadata": {},
   "outputs": [],
   "source": [
    "import pathlib\n",
    "import pandas as pd\n",
    "import numpy as np\n",
    "\n",
    "dataset_path = next((pathlib.Path.cwd().parent / \"reddit-sentiment\").glob(\"*.csv\"))\n",
    "df = pd.read_csv(dataset_path)\n",
    "\n",
    "# https://stackoverflow.com/a/34258961 and \n",
    "df[\"date\"] = pd.to_datetime((np.asarray(df['year'], dtype='datetime64[Y]')-1970)+(np.asarray(df['day'], dtype='timedelta64[D]')-1))\n",
    "df = df.set_index(\"date\")"
   ]
  },
  {
   "cell_type": "code",
   "execution_count": 2,
   "id": "b71a508f-7481-45a8-8671-11bfa3d94f02",
   "metadata": {},
   "outputs": [
    {
     "data": {
      "text/html": [
       "<div>\n",
       "<style scoped>\n",
       "    .dataframe tbody tr th:only-of-type {\n",
       "        vertical-align: middle;\n",
       "    }\n",
       "\n",
       "    .dataframe tbody tr th {\n",
       "        vertical-align: top;\n",
       "    }\n",
       "\n",
       "    .dataframe thead th {\n",
       "        text-align: right;\n",
       "    }\n",
       "</style>\n",
       "<table border=\"1\" class=\"dataframe\">\n",
       "  <thead>\n",
       "    <tr style=\"text-align: right;\">\n",
       "      <th></th>\n",
       "      <th>year</th>\n",
       "      <th>day</th>\n",
       "      <th>subreddit</th>\n",
       "      <th>avg_polarity</th>\n",
       "      <th>avg_subjectivity</th>\n",
       "      <th>count</th>\n",
       "    </tr>\n",
       "    <tr>\n",
       "      <th>date</th>\n",
       "      <th></th>\n",
       "      <th></th>\n",
       "      <th></th>\n",
       "      <th></th>\n",
       "      <th></th>\n",
       "      <th></th>\n",
       "    </tr>\n",
       "  </thead>\n",
       "  <tbody>\n",
       "    <tr>\n",
       "      <th>2005-12-12</th>\n",
       "      <td>2005</td>\n",
       "      <td>346</td>\n",
       "      <td>reddit.com</td>\n",
       "      <td>0.059489</td>\n",
       "      <td>0.313904</td>\n",
       "      <td>76</td>\n",
       "    </tr>\n",
       "    <tr>\n",
       "      <th>2005-12-18</th>\n",
       "      <td>2005</td>\n",
       "      <td>352</td>\n",
       "      <td>reddit.com</td>\n",
       "      <td>0.066328</td>\n",
       "      <td>0.358076</td>\n",
       "      <td>34</td>\n",
       "    </tr>\n",
       "    <tr>\n",
       "      <th>2005-12-22</th>\n",
       "      <td>2005</td>\n",
       "      <td>356</td>\n",
       "      <td>reddit.com</td>\n",
       "      <td>0.113660</td>\n",
       "      <td>0.440575</td>\n",
       "      <td>70</td>\n",
       "    </tr>\n",
       "    <tr>\n",
       "      <th>2005-12-23</th>\n",
       "      <td>2005</td>\n",
       "      <td>357</td>\n",
       "      <td>reddit.com</td>\n",
       "      <td>0.129018</td>\n",
       "      <td>0.353833</td>\n",
       "      <td>94</td>\n",
       "    </tr>\n",
       "    <tr>\n",
       "      <th>2005-12-24</th>\n",
       "      <td>2005</td>\n",
       "      <td>358</td>\n",
       "      <td>reddit.com</td>\n",
       "      <td>0.119258</td>\n",
       "      <td>0.417002</td>\n",
       "      <td>92</td>\n",
       "    </tr>\n",
       "    <tr>\n",
       "      <th>2005-12-25</th>\n",
       "      <td>2005</td>\n",
       "      <td>359</td>\n",
       "      <td>reddit.com</td>\n",
       "      <td>0.119466</td>\n",
       "      <td>0.431318</td>\n",
       "      <td>94</td>\n",
       "    </tr>\n",
       "    <tr>\n",
       "      <th>2005-12-26</th>\n",
       "      <td>2005</td>\n",
       "      <td>360</td>\n",
       "      <td>reddit.com</td>\n",
       "      <td>0.093808</td>\n",
       "      <td>0.427382</td>\n",
       "      <td>76</td>\n",
       "    </tr>\n",
       "    <tr>\n",
       "      <th>2005-12-27</th>\n",
       "      <td>2005</td>\n",
       "      <td>361</td>\n",
       "      <td>reddit.com</td>\n",
       "      <td>0.113608</td>\n",
       "      <td>0.394427</td>\n",
       "      <td>114</td>\n",
       "    </tr>\n",
       "    <tr>\n",
       "      <th>2005-12-28</th>\n",
       "      <td>2005</td>\n",
       "      <td>362</td>\n",
       "      <td>reddit.com</td>\n",
       "      <td>0.144086</td>\n",
       "      <td>0.438743</td>\n",
       "      <td>122</td>\n",
       "    </tr>\n",
       "    <tr>\n",
       "      <th>2005-12-29</th>\n",
       "      <td>2005</td>\n",
       "      <td>363</td>\n",
       "      <td>reddit.com</td>\n",
       "      <td>0.095601</td>\n",
       "      <td>0.385341</td>\n",
       "      <td>120</td>\n",
       "    </tr>\n",
       "    <tr>\n",
       "      <th>2005-12-30</th>\n",
       "      <td>2005</td>\n",
       "      <td>364</td>\n",
       "      <td>reddit.com</td>\n",
       "      <td>0.101944</td>\n",
       "      <td>0.393964</td>\n",
       "      <td>102</td>\n",
       "    </tr>\n",
       "    <tr>\n",
       "      <th>2005-12-31</th>\n",
       "      <td>2005</td>\n",
       "      <td>365</td>\n",
       "      <td>reddit.com</td>\n",
       "      <td>0.143342</td>\n",
       "      <td>0.407696</td>\n",
       "      <td>81</td>\n",
       "    </tr>\n",
       "    <tr>\n",
       "      <th>2006-01-01</th>\n",
       "      <td>2006</td>\n",
       "      <td>1</td>\n",
       "      <td>reddit.com</td>\n",
       "      <td>0.159617</td>\n",
       "      <td>0.436104</td>\n",
       "      <td>75</td>\n",
       "    </tr>\n",
       "    <tr>\n",
       "      <th>2006-01-02</th>\n",
       "      <td>2006</td>\n",
       "      <td>2</td>\n",
       "      <td>reddit.com</td>\n",
       "      <td>0.126361</td>\n",
       "      <td>0.369889</td>\n",
       "      <td>132</td>\n",
       "    </tr>\n",
       "    <tr>\n",
       "      <th>2006-01-03</th>\n",
       "      <td>2006</td>\n",
       "      <td>3</td>\n",
       "      <td>reddit.com</td>\n",
       "      <td>0.076430</td>\n",
       "      <td>0.358888</td>\n",
       "      <td>142</td>\n",
       "    </tr>\n",
       "  </tbody>\n",
       "</table>\n",
       "</div>"
      ],
      "text/plain": [
       "            year  day   subreddit  avg_polarity  avg_subjectivity  count\n",
       "date                                                                    \n",
       "2005-12-12  2005  346  reddit.com      0.059489          0.313904     76\n",
       "2005-12-18  2005  352  reddit.com      0.066328          0.358076     34\n",
       "2005-12-22  2005  356  reddit.com      0.113660          0.440575     70\n",
       "2005-12-23  2005  357  reddit.com      0.129018          0.353833     94\n",
       "2005-12-24  2005  358  reddit.com      0.119258          0.417002     92\n",
       "2005-12-25  2005  359  reddit.com      0.119466          0.431318     94\n",
       "2005-12-26  2005  360  reddit.com      0.093808          0.427382     76\n",
       "2005-12-27  2005  361  reddit.com      0.113608          0.394427    114\n",
       "2005-12-28  2005  362  reddit.com      0.144086          0.438743    122\n",
       "2005-12-29  2005  363  reddit.com      0.095601          0.385341    120\n",
       "2005-12-30  2005  364  reddit.com      0.101944          0.393964    102\n",
       "2005-12-31  2005  365  reddit.com      0.143342          0.407696     81\n",
       "2006-01-01  2006    1  reddit.com      0.159617          0.436104     75\n",
       "2006-01-02  2006    2  reddit.com      0.126361          0.369889    132\n",
       "2006-01-03  2006    3  reddit.com      0.076430          0.358888    142"
      ]
     },
     "execution_count": 2,
     "metadata": {},
     "output_type": "execute_result"
    }
   ],
   "source": [
    "df.head(15)"
   ]
  },
  {
   "cell_type": "markdown",
   "id": "bc5d28d4-10c7-4686-a3ee-eec767efa0aa",
   "metadata": {},
   "source": [
    "Inspect the number of subreddits over time"
   ]
  },
  {
   "cell_type": "code",
   "execution_count": 3,
   "id": "602fb2d7-f3b0-4859-a8b7-4b88aed99f9f",
   "metadata": {},
   "outputs": [
    {
     "data": {
      "text/html": [
       "<div>\n",
       "<style scoped>\n",
       "    .dataframe tbody tr th:only-of-type {\n",
       "        vertical-align: middle;\n",
       "    }\n",
       "\n",
       "    .dataframe tbody tr th {\n",
       "        vertical-align: top;\n",
       "    }\n",
       "\n",
       "    .dataframe thead th {\n",
       "        text-align: right;\n",
       "    }\n",
       "</style>\n",
       "<table border=\"1\" class=\"dataframe\">\n",
       "  <thead>\n",
       "    <tr style=\"text-align: right;\">\n",
       "      <th></th>\n",
       "      <th>subreddit</th>\n",
       "    </tr>\n",
       "    <tr>\n",
       "      <th>year</th>\n",
       "      <th></th>\n",
       "    </tr>\n",
       "  </thead>\n",
       "  <tbody>\n",
       "    <tr>\n",
       "      <th>2005</th>\n",
       "      <td>1</td>\n",
       "    </tr>\n",
       "    <tr>\n",
       "      <th>2006</th>\n",
       "      <td>34</td>\n",
       "    </tr>\n",
       "    <tr>\n",
       "      <th>2007</th>\n",
       "      <td>46</td>\n",
       "    </tr>\n",
       "    <tr>\n",
       "      <th>2008</th>\n",
       "      <td>2695</td>\n",
       "    </tr>\n",
       "  </tbody>\n",
       "</table>\n",
       "</div>"
      ],
      "text/plain": [
       "      subreddit\n",
       "year           \n",
       "2005          1\n",
       "2006         34\n",
       "2007         46\n",
       "2008       2695"
      ]
     },
     "execution_count": 3,
     "metadata": {},
     "output_type": "execute_result"
    }
   ],
   "source": [
    "df[[\"year\", \"subreddit\"]].groupby(\"year\").nunique(\"subreddit\")"
   ]
  },
  {
   "cell_type": "markdown",
   "id": "51e06bd6-68ec-4918-a457-98c80e7a9576",
   "metadata": {},
   "source": [
    "Number of total posts on reddit over time"
   ]
  },
  {
   "cell_type": "code",
   "execution_count": 4,
   "id": "3f02abb1-6f0d-4ec3-9507-b483c078818c",
   "metadata": {},
   "outputs": [
    {
     "data": {
      "text/plain": [
       "<AxesSubplot: xlabel='date'>"
      ]
     },
     "execution_count": 4,
     "metadata": {},
     "output_type": "execute_result"
    },
    {
     "data": {
      "image/png": "[encoded data removed]",
      "text/plain": [
       "<Figure size 640x480 with 1 Axes>"
      ]
     },
     "metadata": {},
     "output_type": "display_data"
    }
   ],
   "source": [
    "df[[\"count\"]].resample(\"Q\").sum(\"count\").plot(kind=\"line\")"
   ]
  },
  {
   "cell_type": "markdown",
   "id": "2723bd36-9bfd-493c-b26c-ba25368535c5",
   "metadata": {},
   "source": [
    "How steady are subreddits over time? Do we have the same number of posts every day?"
   ]
  },
  {
   "cell_type": "code",
   "execution_count": null,
   "id": "ed0ba139-3f76-4902-992d-1c9974dea1e6",
   "metadata": {},
   "outputs": [],
   "source": []
  }
 ],
 "metadata": {
  "kernelspec": {
   "display_name": "Python 3 (ipykernel)",
   "language": "python",
   "name": "python3"
  },
  "language_info": {
   "codemirror_mode": {
    "name": "ipython",
    "version": 3
   },
   "file_extension": ".py",
   "mimetype": "text/x-python",
   "name": "python",
   "nbconvert_exporter": "python",
   "pygments_lexer": "ipython3",
   "version": "3.9.6"
  }
 },
 "nbformat": 4,
 "nbformat_minor": 5
}
